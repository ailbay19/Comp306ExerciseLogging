{
 "cells": [
  {
   "cell_type": "code",
   "execution_count": 1,
   "id": "7b9be2f9-0f26-4ef3-a783-102308464869",
   "metadata": {},
   "outputs": [],
   "source": [
    "import mysql.connector\n",
    "import matplotlib.pyplot as plt\n",
    "import seaborn as sns\n",
    "import csv\n",
    "import os\n",
    "import pandas as pd\n",
    "\n",
    "%matplotlib inline\n",
    "\n"
   ]
  },
  {
   "cell_type": "code",
   "execution_count": 2,
   "id": "c88cb36c-0ff1-474c-8572-683af6476f70",
   "metadata": {},
   "outputs": [
    {
     "name": "stdout",
     "output_type": "stream",
     "text": [
      "<mysql.connector.connection_cext.CMySQLConnection object at 0x11d597320>\n"
     ]
    }
   ],
   "source": [
    "db_connection = mysql.connector.connect(\n",
    "    host=\"localhost\",\n",
    "    user= \"root\",\n",
    "    passwd = \"123456484848t\", #change password\n",
    "    auth_plugin = 'mysql_native_password'\n",
    ")\n",
    "print(db_connection)\n",
    "\n"
   ]
  },
  {
   "cell_type": "code",
   "execution_count": 3,
   "id": "b4dd5af2-4531-4e41-aca4-1dc4e47a026b",
   "metadata": {},
   "outputs": [],
   "source": [
    "db_cursor = db_connection.cursor(buffered=True)\n",
    "db_cursor.execute(\"SET GLOBAL innodb_lock_wait_timeout = 120\")"
   ]
  },
  {
   "cell_type": "code",
   "execution_count": 4,
   "id": "c35c791b-0d81-4635-b0be-64a7fa85f9f7",
   "metadata": {},
   "outputs": [],
   "source": [
    "db_cursor.execute(\"CREATE DATABASE IF NOT EXISTS fitness_tracker_db\")"
   ]
  },
  {
   "cell_type": "code",
   "execution_count": 5,
   "id": "51acaecc-d821-4a47-91df-a4fa7fa46c01",
   "metadata": {},
   "outputs": [],
   "source": [
    "db_cursor.execute(\"USE fitness_tracker_db\")"
   ]
  },
  {
   "cell_type": "code",
   "execution_count": 6,
   "id": "a8a0f1df-af57-4941-9c2b-084ebbc03382",
   "metadata": {},
   "outputs": [],
   "source": [
    "def populate_table(db_connection, db_cursor, insert_query, file_path, batch_size=100):\n",
    "    import csv\n",
    "    with open(file_path, mode='r') as csv_data:\n",
    "        reader = csv.reader(csv_data, delimiter=',')\n",
    "        csv_data_list = list(reader)\n",
    "        for i, row in enumerate(csv_data_list[1:], start=1):  # Skip the header\n",
    "            row = tuple(map(lambda x: None if x == \"\" else x, row))  # Convert empty strings to None\n",
    "            db_cursor.execute(insert_query, row)  # Execute the insert query\n",
    "            if i % batch_size == 0:  # Commit every `batch_size` rows\n",
    "                db_connection.commit()\n",
    "        db_connection.commit()  # Final commit after all rows are processed"
   ]
  },
  {
   "cell_type": "code",
   "execution_count": 7,
   "id": "545543fd-cc52-4476-be93-a848765baaa3",
   "metadata": {},
   "outputs": [
    {
     "name": "stdout",
     "output_type": "stream",
     "text": [
      "Completed\n"
     ]
    }
   ],
   "source": [
    "db_cursor.execute(\"\"\"CREATE TABLE IF NOT EXISTS User (\n",
    "        id CHAR(8),\n",
    "        email VARCHAR(320) NOT NULL,\n",
    "        password VARCHAR(255) NOT NULL,\n",
    "        fname VARCHAR(30) NOT NULL,\n",
    "        lname VARCHAR(30) NOT NULL,\n",
    "        age TINYINT UNSIGNED CHECK (age > 0 AND age <= 120),\n",
    "        gender CHAR(1) CHECK (gender IN ('M', 'F', 'O')),\n",
    "        weight DECIMAL(5,2) CHECK (weight > 0),\n",
    "        height DECIMAL(4,1) CHECK (height > 0),\n",
    "        PRIMARY KEY (id))\"\"\")\n",
    "\n",
    "insert_member= (\n",
    "    \"INSERT INTO User(id, email, password, fname, lname, age, gender, weight, height)\"\n",
    "    \"VALUES (%s, %s, %s, %s, %s, %s, %s, %s, %s)\"\n",
    ")\n",
    "\n",
    "\n",
    "file_path = os.path.expanduser(\"~/Desktop/csv_files/users.csv\")  # Path to the CSV file\n",
    "users_df = pd.read_csv(file_path)  # Read CSV into a DataFrame (optional for analysis, not used here)\n",
    "\n",
    "# Call the populate_table function to insert data\n",
    "populate_table(db_connection, db_cursor, insert_member, file_path, batch_size=50)\n",
    "\n",
    "\n",
    "print(\"Completed\")"
   ]
  },
  {
   "cell_type": "code",
   "execution_count": 8,
   "id": "cbc6f61b-4575-47fd-b417-053493c1e399",
   "metadata": {},
   "outputs": [
    {
     "name": "stdout",
     "output_type": "stream",
     "text": [
      "Completed\n"
     ]
    }
   ],
   "source": [
    "db_cursor.execute(\"\"\"\n",
    "CREATE TABLE IF NOT EXISTS Gym (\n",
    "    id CHAR(8),\n",
    "    name VARCHAR(100),\n",
    "    location VARCHAR(255),\n",
    "    price DECIMAL(8,2) CHECK (price > 0),\n",
    "    PRIMARY KEY (id)\n",
    ")\"\"\")\n",
    "\n",
    "\n",
    "insert_gym = (\n",
    "    \"INSERT INTO Gym (id, name, location, price)\"\n",
    "    \"VALUES (%s, %s, %s, %s)\"\n",
    ")\n",
    "\n",
    "\n",
    "file_path = os.path.expanduser(\"~/Desktop/csv_files/gyms.csv\")\n",
    "gyms_df = pd.read_csv(file_path, encoding='utf-8-sig')\n",
    "\n",
    "\n",
    "populate_table(db_connection, db_cursor, insert_gym, file_path, batch_size=50)\n",
    "\n",
    "print(\"Completed\")\n",
    "    "
   ]
  },
  {
   "cell_type": "code",
   "execution_count": 9,
   "id": "38ce1e57-8b32-42fa-a356-0d13ff2c13e4",
   "metadata": {},
   "outputs": [
    {
     "name": "stdout",
     "output_type": "stream",
     "text": [
      "Completed\n"
     ]
    }
   ],
   "source": [
    "db_cursor.execute(\"\"\"\n",
    "CREATE TABLE IF NOT EXISTS RegularUser (\n",
    "    id CHAR(8),\n",
    "    PRIMARY KEY(id),\n",
    "    FOREIGN KEY (id) REFERENCES User(id) ON DELETE CASCADE\n",
    ")\"\"\")\n",
    "\n",
    "\n",
    "insert_regular_user = (\n",
    "    \"INSERT INTO RegularUser (id)\"\n",
    "    \"VALUES (%s)\"\n",
    ")\n",
    "\n",
    "# File path for RegularUser CSV\n",
    "file_path = os.path.expanduser(\"~/Desktop/csv_files/regular_users.csv\")\n",
    "\n",
    "\n",
    "populate_table(db_connection, db_cursor, insert_regular_user, file_path, batch_size=50)\n",
    "\n",
    "print(\"Completed\")\n",
    "\n"
   ]
  },
  {
   "cell_type": "code",
   "execution_count": 10,
   "id": "b7152a15-73bc-4a98-ba97-7d906be6918c",
   "metadata": {},
   "outputs": [
    {
     "name": "stdout",
     "output_type": "stream",
     "text": [
      "Completed\n"
     ]
    }
   ],
   "source": [
    "db_cursor.execute(\"\"\"\n",
    "CREATE TABLE IF NOT EXISTS PersonalTrainer (\n",
    "    id CHAR(8) PRIMARY KEY,\n",
    "    experience INT NOT NULL,\n",
    "    specialization VARCHAR(255) NOT NULL,\n",
    "    FOREIGN KEY (id) REFERENCES User(id) ON DELETE CASCADE\n",
    ")\"\"\")\n",
    "\n",
    "insert_personal_trainer = (\n",
    "    \"INSERT INTO PersonalTrainer (id, experience, specialization)\"\n",
    "    \"VALUES (%s, %s, %s)\"\n",
    ")\n",
    "\n",
    "# File path for PersonalTrainer CSV\n",
    "file_path = os.path.expanduser(\"~/Desktop/csv_files/trainers.csv\")\n",
    "\n",
    "# Read the CSV file\n",
    "personal_trainers_df = pd.read_csv(file_path)\n",
    "\n",
    "\n",
    "# Populate the PersonalTrainer table\n",
    "populate_table(db_connection, db_cursor, insert_personal_trainer, file_path, batch_size=50)\n",
    "\n",
    "\n",
    "print(\"Completed\")"
   ]
  },
  {
   "cell_type": "code",
   "execution_count": 12,
   "id": "983fea67-763c-4b0f-8929-7be80b74d0fa",
   "metadata": {},
   "outputs": [
    {
     "name": "stdout",
     "output_type": "stream",
     "text": [
      "Completed\n"
     ]
    }
   ],
   "source": [
    "db_cursor.execute(\"\"\"\n",
    "CREATE TABLE IF NOT EXISTS Have_Membership_AT (\n",
    "    user_id CHAR(8),\n",
    "    gym_id CHAR(8),\n",
    "    start_date DATE NOT NULL,\n",
    "    due_date DATE NOT NULL,\n",
    "    PRIMARY KEY (user_id, gym_id),\n",
    "    FOREIGN KEY (user_id) REFERENCES User(id) ON DELETE CASCADE,\n",
    "    FOREIGN KEY (gym_id) REFERENCES Gym(id) ON DELETE CASCADE\n",
    ")\"\"\")\n",
    "\n",
    "\n",
    "\n",
    "insert_membership = (\n",
    "    \"INSERT INTO Have_Membership_AT (user_id, gym_id, start_date, due_date)\"\n",
    "    \"VALUES (%s, %s, %s, %s)\"\n",
    ")\n",
    "\n",
    "\n",
    "\n",
    "# File path for Have_Membership_AT CSV\n",
    "file_path = os.path.expanduser(\"~/Desktop/csv_files/memberships.csv\")\n",
    "\n",
    "\n",
    "# Populate the Have_Membership_AT table\n",
    "populate_table(db_connection, db_cursor, insert_membership, file_path, batch_size=50)\n",
    "\n",
    "print(\"Completed\")"
   ]
  },
  {
   "cell_type": "code",
   "execution_count": 13,
   "id": "79cf490d-70ce-48c9-a428-98c40501dc95",
   "metadata": {},
   "outputs": [
    {
     "name": "stdout",
     "output_type": "stream",
     "text": [
      "Completed\n"
     ]
    }
   ],
   "source": [
    "db_cursor.execute(\"SET FOREIGN_KEY_CHECKS = 0\");\n",
    "db_cursor.execute(\"\"\"\n",
    "CREATE TABLE IF NOT EXISTS Workout (\n",
    "    id CHAR(8),\n",
    "    gym_id CHAR(8) NOT NULL,\n",
    "    date DATE NOT NULL,\n",
    "    start_time TIME NOT NULL,\n",
    "    end_time TIME NOT NULL,\n",
    "    trainer_id CHAR(8),\n",
    "    reg_user_id CHAR(8),\n",
    "    PRIMARY KEY(id),\n",
    "    FOREIGN KEY (gym_id) REFERENCES Gym(id) ON DELETE CASCADE,\n",
    "    FOREIGN KEY (trainer_id) REFERENCES PersonalTrainer(id) ON DELETE CASCADE,\n",
    "    FOREIGN KEY (reg_user_id) REFERENCES RegularUser(id) ON DELETE CASCADE\n",
    ")\n",
    "\"\"\")\n",
    "\n",
    "\n",
    "insert_workout = (\n",
    "    \"INSERT INTO Workout (id, gym_id, date, start_time, end_time, trainer_id, reg_user_id)\"\n",
    "    \"VALUES (%s, %s, %s, %s, %s, %s, %s)\"\n",
    ")\n",
    "\n",
    "\n",
    "# File path for Workouts CSV\n",
    "file_path = os.path.expanduser(\"~/Desktop/csv_files/workouts.csv\")\n",
    "\n",
    "populate_table(db_connection, db_cursor, insert_workout, file_path, batch_size=50)\n",
    "\n",
    "print(\"Completed\")\n"
   ]
  },
  {
   "cell_type": "code",
   "execution_count": 14,
   "id": "13adc842-381a-4156-8bff-8cbaa27fafb1",
   "metadata": {},
   "outputs": [
    {
     "name": "stdout",
     "output_type": "stream",
     "text": [
      "Completed\n"
     ]
    }
   ],
   "source": [
    "db_cursor.execute(\"\"\"\n",
    "CREATE TABLE IF NOT EXISTS Exercise (\n",
    "    name VARCHAR(100) PRIMARY KEY,\n",
    "    required_equipment VARCHAR(100),\n",
    "    level ENUM('Beginner', 'Intermediate', 'Advanced') NOT NULL\n",
    ")\"\"\")\n",
    "\n",
    "\n",
    "insert_exercise = (\n",
    "    \"INSERT INTO Exercise (name, required_equipment, level)\"\n",
    "    \"VALUES (%s, %s, %s)\"\n",
    ")\n",
    "\n",
    "\n",
    "\n",
    "\n",
    "\n",
    "\n",
    "# File path for Exercise CSV\n",
    "file_path = os.path.expanduser(\"~/Desktop/csv_files/exercises.csv\")\n",
    "\n",
    "\n",
    "\n",
    "# Populate the Exercise table\n",
    "populate_table(db_connection, db_cursor, insert_exercise, file_path, batch_size=50)\n",
    "\n",
    "\n",
    "print(\"Completed\")\n"
   ]
  },
  {
   "cell_type": "code",
   "execution_count": 15,
   "id": "08701974-4d1c-4d06-9025-7c54466eafd0",
   "metadata": {},
   "outputs": [
    {
     "name": "stdout",
     "output_type": "stream",
     "text": [
      "Completed\n"
     ]
    }
   ],
   "source": [
    "db_cursor.execute(\"SET FOREIGN_KEY_CHECKS = 0\");\n",
    "db_cursor.execute(\"\"\"\n",
    "CREATE TABLE IF NOT EXISTS Performance (\n",
    "    id CHAR(8),\n",
    "    weight DECIMAL(5,2) CHECK (weight >= 0),\n",
    "    sets TINYINT UNSIGNED CHECK (sets > 0),\n",
    "    reps TINYINT UNSIGNED CHECK (reps > 0),\n",
    "    workout_id CHAR(8),\n",
    "    exercise_name VARCHAR(100) NOT NULL,\n",
    "    PRIMARY KEY(id),\n",
    "    FOREIGN KEY (workout_id) REFERENCES Workout(id) ON DELETE CASCADE,\n",
    "    FOREIGN KEY (exercise_name) REFERENCES Exercise(name) ON DELETE CASCADE\n",
    ")\"\"\")\n",
    "\n",
    "\n",
    "insert_performance = (\n",
    "    \"INSERT INTO Performance (id, weight, sets, reps, workout_id, exercise_name)\"\n",
    "    \"VALUES (%s, %s, %s, %s, %s, %s)\"\n",
    ")\n",
    "\n",
    "\n",
    "\n",
    "# Save valid data to CSV\n",
    "file_path = os.path.expanduser(\"~/Desktop/csv_files/performances.csv\")\n",
    "\n",
    "\n",
    "\n",
    "populate_table(db_connection, db_cursor, insert_performance, file_path, batch_size=50)\n",
    "\n",
    "print(\"Completed\")"
   ]
  },
  {
   "cell_type": "code",
   "execution_count": 16,
   "id": "808c52de-993e-4d62-ae3c-def86ded15c9",
   "metadata": {},
   "outputs": [
    {
     "name": "stdout",
     "output_type": "stream",
     "text": [
      "Completed\n"
     ]
    }
   ],
   "source": [
    "db_cursor.execute(\"\"\"\n",
    "CREATE TABLE IF NOT EXISTS Target_Muscle (\n",
    "    exercise_name VARCHAR(100),\n",
    "    muscle VARCHAR(50),\n",
    "    PRIMARY KEY (exercise_name, muscle),\n",
    "    FOREIGN KEY (exercise_name) REFERENCES Exercise(name)\n",
    ")\"\"\")\n",
    "\n",
    "insert_target_muscle = (\n",
    "    \"INSERT INTO Target_Muscle (exercise_name, muscle)\"\n",
    "    \"VALUES (%s, %s)\"\n",
    ")\n",
    "\n",
    "\n",
    "# File path for Target_Muscle CSV\n",
    "file_path = os.path.expanduser(\"~/Desktop/csv_files/target_muscles.csv\")\n",
    "\n",
    "\n",
    "# Populate the Target_Muscle table\n",
    "populate_table(db_connection, db_cursor, insert_target_muscle, file_path, batch_size=50)\n",
    "\n",
    "print(\"Completed\")\n",
    "\n",
    "\n"
   ]
  }
 ],
 "metadata": {
  "kernelspec": {
   "display_name": "Python 3 (ipykernel)",
   "language": "python",
   "name": "python3"
  },
  "language_info": {
   "codemirror_mode": {
    "name": "ipython",
    "version": 3
   },
   "file_extension": ".py",
   "mimetype": "text/x-python",
   "name": "python",
   "nbconvert_exporter": "python",
   "pygments_lexer": "ipython3",
   "version": "3.12.0"
  }
 },
 "nbformat": 4,
 "nbformat_minor": 5
}
